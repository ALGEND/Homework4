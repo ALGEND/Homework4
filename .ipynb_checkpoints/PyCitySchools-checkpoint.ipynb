{
 "cells": [
  {
   "cell_type": "code",
   "execution_count": 1,
   "metadata": {},
   "outputs": [],
   "source": [
    "# Dependencies and Setup\n",
    "import pandas as pd\n",
    "import numpy as np\n",
    "\n",
    "# File to Load (Remember to Change These)\n",
    "school_data_to_load = \"Resources/schools_complete.csv\"\n",
    "student_data_to_load = \"Resources/students_complete.csv\"\n",
    "\n",
    "# Read School and Student Data File and store into Pandas Data Frames\n",
    "school_data = pd.read_csv(school_data_to_load)\n",
    "student_data = pd.read_csv(student_data_to_load)\n",
    "\n",
    "# Combine the data into a single dataset\n",
    "school_data_complete = pd.merge(student_data, school_data, how=\"left\", on=[\"school_name\", \n",
    "                                                                           \"school_name\"])\n"
   ]
  },
  {
   "cell_type": "markdown",
   "metadata": {},
   "source": [
    "District Summary"
   ]
  },
  {
   "cell_type": "code",
   "execution_count": 2,
   "metadata": {},
   "outputs": [],
   "source": [
    "# Calculate Total Number of Schools\n",
    "total_schools = len(school_data_complete['school_name'].unique())\n",
    "                    "
   ]
  },
  {
   "cell_type": "code",
   "execution_count": 3,
   "metadata": {},
   "outputs": [],
   "source": [
    "# Calculate Total Number of Students\n",
    "total_students = school_data_complete['size'].count()"
   ]
  },
  {
   "cell_type": "code",
   "execution_count": 4,
   "metadata": {},
   "outputs": [],
   "source": [
    "#Calculate the total budget. GETTING WRONG SUMMATION OUTPUT, NOT SURE WHY??????\n",
    "\n",
    " total_budget = school_data_complete['budget'].sum()\n",
    "#total_budget = school_data_complete[\"budget\"].sum()"
   ]
  },
  {
   "cell_type": "code",
   "execution_count": 5,
   "metadata": {},
   "outputs": [],
   "source": [
    "#Calculate average math score\n",
    "avg_math_score = round(school_data_complete['math_score'].mean(),6)"
   ]
  },
  {
   "cell_type": "code",
   "execution_count": 6,
   "metadata": {},
   "outputs": [],
   "source": [
    "#Calculate average reading score\n",
    "avg_reading_score = round(school_data_complete['reading_score'].mean(),6) "
   ]
  },
  {
   "cell_type": "code",
   "execution_count": 7,
   "metadata": {},
   "outputs": [],
   "source": [
    "#Calculate the percentage of students with a passing math score (70 or greater)\n",
    "students_passing_math = school_data_complete.loc[school_data_complete[\"math_score\"]>=70,:]\n",
    "percentage_passing_math = round(float(students_passing_math['math_score'].count()/total_students)*100,6)\n"
   ]
  },
  {
   "cell_type": "code",
   "execution_count": 8,
   "metadata": {},
   "outputs": [],
   "source": [
    "#Calculate the percentage of students with a passing reading score (70 or greater)\n",
    "students_passing_reading = school_data_complete.loc[school_data_complete[\"reading_score\"]>=70,:]\n",
    "percentage_passing_reading = round(float(students_passing_reading['reading_score'].count()/total_students)*100,6)\n"
   ]
  },
  {
   "cell_type": "code",
   "execution_count": 9,
   "metadata": {},
   "outputs": [],
   "source": [
    "#Calculate the overall passing rate (overall average score), i.e. (avg. math score + avg. reading score)/2\n",
    "overall_passing_rate = round((percentage_passing_math + percentage_passing_reading)/2,6)"
   ]
  },
  {
   "cell_type": "code",
   "execution_count": 10,
   "metadata": {},
   "outputs": [],
   "source": [
    "#Create District Summary Data Frame\n",
    "district_summary_df = pd.DataFrame({\"Total Schools\": [total_schools], \"Total Students\": [total_students], \n",
    "                                    \"Total Budget\": [total_budget], \"Average Math Score\": [avg_math_score],\n",
    "                                    \"Average Reading Score\": [avg_reading_score], \n",
    "                                    \"Percent Passing Math\": [percentage_passing_math],\n",
    "                                    \"Percent Passing Reading\": [percentage_passing_reading],\n",
    "                                    \"Overall Passing Rate\": [overall_passing_rate]},\n",
    "                            )                                   "
   ]
  },
  {
   "cell_type": "code",
   "execution_count": 11,
   "metadata": {},
   "outputs": [
    {
     "data": {
      "text/html": [
       "<style  type=\"text/css\" >\n",
       "</style>  \n",
       "<table id=\"T_8bbb43dc_fd6a_11e8_a49d_9a0014a44500\" > \n",
       "<thead>    <tr> \n",
       "        <th class=\"blank level0\" ></th> \n",
       "        <th class=\"col_heading level0 col0\" >Total Schools</th> \n",
       "        <th class=\"col_heading level0 col1\" >Total Students</th> \n",
       "        <th class=\"col_heading level0 col2\" >Total Budget</th> \n",
       "        <th class=\"col_heading level0 col3\" >Average Math Score</th> \n",
       "        <th class=\"col_heading level0 col4\" >Average Reading Score</th> \n",
       "        <th class=\"col_heading level0 col5\" >Percent Passing Math</th> \n",
       "        <th class=\"col_heading level0 col6\" >Percent Passing Reading</th> \n",
       "        <th class=\"col_heading level0 col7\" >Overall Passing Rate</th> \n",
       "    </tr></thead> \n",
       "<tbody>    <tr> \n",
       "        <th id=\"T_8bbb43dc_fd6a_11e8_a49d_9a0014a44500level0_row0\" class=\"row_heading level0 row0\" >0</th> \n",
       "        <td id=\"T_8bbb43dc_fd6a_11e8_a49d_9a0014a44500row0_col0\" class=\"data row0 col0\" >15</td> \n",
       "        <td id=\"T_8bbb43dc_fd6a_11e8_a49d_9a0014a44500row0_col1\" class=\"data row0 col1\" >39170</td> \n",
       "        <td id=\"T_8bbb43dc_fd6a_11e8_a49d_9a0014a44500row0_col2\" class=\"data row0 col2\" >$82,932,329,558.00</td> \n",
       "        <td id=\"T_8bbb43dc_fd6a_11e8_a49d_9a0014a44500row0_col3\" class=\"data row0 col3\" >78.9854</td> \n",
       "        <td id=\"T_8bbb43dc_fd6a_11e8_a49d_9a0014a44500row0_col4\" class=\"data row0 col4\" >81.8778</td> \n",
       "        <td id=\"T_8bbb43dc_fd6a_11e8_a49d_9a0014a44500row0_col5\" class=\"data row0 col5\" >74.9809</td> \n",
       "        <td id=\"T_8bbb43dc_fd6a_11e8_a49d_9a0014a44500row0_col6\" class=\"data row0 col6\" >85.8055</td> \n",
       "        <td id=\"T_8bbb43dc_fd6a_11e8_a49d_9a0014a44500row0_col7\" class=\"data row0 col7\" >80.3932</td> \n",
       "    </tr></tbody> \n",
       "</table> "
      ],
      "text/plain": [
       "<pandas.io.formats.style.Styler at 0x10505f8d0>"
      ]
     },
     "execution_count": 11,
     "metadata": {},
     "output_type": "execute_result"
    }
   ],
   "source": [
    "#Data Frame Output\n",
    "district_summary_df.style.format({\"Total Budget\": \"${:,.2f}\"})"
   ]
  },
  {
   "cell_type": "markdown",
   "metadata": {},
   "source": [
    "School Summary"
   ]
  },
  {
   "cell_type": "code",
   "execution_count": 13,
   "metadata": {},
   "outputs": [],
   "source": [
    "#Creating an overview school summary table \n",
    "school = school_data_complete.groupby(['school_name'])\n",
    "school_type = school['type'].first()\n",
    "total_students = school.size()\n",
    "total_school_budget = school['budget'].first()"
   ]
  },
  {
   "cell_type": "code",
   "execution_count": 14,
   "metadata": {},
   "outputs": [],
   "source": [
    "#Calculation\n",
    "total_student_budget = total_school_budget/total_students\n",
    "avg_math_score = school['math_score'].mean()\n",
    "avg_reading_score = school['reading_score'].mean()\n",
    "passing_math = school_data_complete[school_data_complete['math_score']>=70].groupby(['school_name']).size()\n",
    "percentage_passing_math = (passing_math/total_students)*100\n",
    "passing_reading = school_data_complete[school_data_complete['reading_score']>=70].groupby(['school_name']).size()\n",
    "percentage_passing_reading = (passing_reading/total_students)*100\n",
    "overall_passing_rate = (percentage_passing_math + percentage_passing_reading)/2"
   ]
  },
  {
   "cell_type": "code",
   "execution_count": 15,
   "metadata": {},
   "outputs": [],
   "source": [
    "#Create School Summary Data Frame\n",
    "school_df={'School Type': school_type, 'Total Students': total_students, \n",
    "           'Total School Budget': total_school_budget, 'Per Student Budget': total_student_budget,\n",
    "          'Average Math Score': avg_math_score, 'Average Reading Score': avg_reading_score, \n",
    "          'Percentage Passing Math': percentage_passing_math, 'Percentage Passing Reading': percentage_passing_reading,\n",
    "          'Overall Passing Rate': overall_passing_rate }"
   ]
  },
  {
   "cell_type": "code",
   "execution_count": 16,
   "metadata": {},
   "outputs": [
    {
     "data": {
      "text/html": [
       "<style  type=\"text/css\" >\n",
       "</style>  \n",
       "<table id=\"T_af406c9c_fd6a_11e8_acf8_9a0014a44500\" > \n",
       "<thead>    <tr> \n",
       "        <th class=\"blank level0\" ></th> \n",
       "        <th class=\"col_heading level0 col0\" >School Type</th> \n",
       "        <th class=\"col_heading level0 col1\" >Total Students</th> \n",
       "        <th class=\"col_heading level0 col2\" >Total School Budget</th> \n",
       "        <th class=\"col_heading level0 col3\" >Per Student Budget</th> \n",
       "        <th class=\"col_heading level0 col4\" >Average Math Score</th> \n",
       "        <th class=\"col_heading level0 col5\" >Average Reading Score</th> \n",
       "        <th class=\"col_heading level0 col6\" >Percentage Passing Math</th> \n",
       "        <th class=\"col_heading level0 col7\" >Percentage Passing Reading</th> \n",
       "        <th class=\"col_heading level0 col8\" >Overall Passing Rate</th> \n",
       "    </tr>    <tr> \n",
       "        <th class=\"index_name level0\" >school_name</th> \n",
       "        <th class=\"blank\" ></th> \n",
       "        <th class=\"blank\" ></th> \n",
       "        <th class=\"blank\" ></th> \n",
       "        <th class=\"blank\" ></th> \n",
       "        <th class=\"blank\" ></th> \n",
       "        <th class=\"blank\" ></th> \n",
       "        <th class=\"blank\" ></th> \n",
       "        <th class=\"blank\" ></th> \n",
       "        <th class=\"blank\" ></th> \n",
       "    </tr></thead> \n",
       "<tbody>    <tr> \n",
       "        <th id=\"T_af406c9c_fd6a_11e8_acf8_9a0014a44500level0_row0\" class=\"row_heading level0 row0\" >Bailey High School</th> \n",
       "        <td id=\"T_af406c9c_fd6a_11e8_acf8_9a0014a44500row0_col0\" class=\"data row0 col0\" >District</td> \n",
       "        <td id=\"T_af406c9c_fd6a_11e8_acf8_9a0014a44500row0_col1\" class=\"data row0 col1\" >4976</td> \n",
       "        <td id=\"T_af406c9c_fd6a_11e8_acf8_9a0014a44500row0_col2\" class=\"data row0 col2\" >$3,124,928.00</td> \n",
       "        <td id=\"T_af406c9c_fd6a_11e8_acf8_9a0014a44500row0_col3\" class=\"data row0 col3\" >$628.00</td> \n",
       "        <td id=\"T_af406c9c_fd6a_11e8_acf8_9a0014a44500row0_col4\" class=\"data row0 col4\" >77.0484</td> \n",
       "        <td id=\"T_af406c9c_fd6a_11e8_acf8_9a0014a44500row0_col5\" class=\"data row0 col5\" >81.034</td> \n",
       "        <td id=\"T_af406c9c_fd6a_11e8_acf8_9a0014a44500row0_col6\" class=\"data row0 col6\" >66.6801</td> \n",
       "        <td id=\"T_af406c9c_fd6a_11e8_acf8_9a0014a44500row0_col7\" class=\"data row0 col7\" >81.9333</td> \n",
       "        <td id=\"T_af406c9c_fd6a_11e8_acf8_9a0014a44500row0_col8\" class=\"data row0 col8\" >74.3067</td> \n",
       "    </tr>    <tr> \n",
       "        <th id=\"T_af406c9c_fd6a_11e8_acf8_9a0014a44500level0_row1\" class=\"row_heading level0 row1\" >Cabrera High School</th> \n",
       "        <td id=\"T_af406c9c_fd6a_11e8_acf8_9a0014a44500row1_col0\" class=\"data row1 col0\" >Charter</td> \n",
       "        <td id=\"T_af406c9c_fd6a_11e8_acf8_9a0014a44500row1_col1\" class=\"data row1 col1\" >1858</td> \n",
       "        <td id=\"T_af406c9c_fd6a_11e8_acf8_9a0014a44500row1_col2\" class=\"data row1 col2\" >$1,081,356.00</td> \n",
       "        <td id=\"T_af406c9c_fd6a_11e8_acf8_9a0014a44500row1_col3\" class=\"data row1 col3\" >$582.00</td> \n",
       "        <td id=\"T_af406c9c_fd6a_11e8_acf8_9a0014a44500row1_col4\" class=\"data row1 col4\" >83.0619</td> \n",
       "        <td id=\"T_af406c9c_fd6a_11e8_acf8_9a0014a44500row1_col5\" class=\"data row1 col5\" >83.9758</td> \n",
       "        <td id=\"T_af406c9c_fd6a_11e8_acf8_9a0014a44500row1_col6\" class=\"data row1 col6\" >94.1335</td> \n",
       "        <td id=\"T_af406c9c_fd6a_11e8_acf8_9a0014a44500row1_col7\" class=\"data row1 col7\" >97.0398</td> \n",
       "        <td id=\"T_af406c9c_fd6a_11e8_acf8_9a0014a44500row1_col8\" class=\"data row1 col8\" >95.5867</td> \n",
       "    </tr>    <tr> \n",
       "        <th id=\"T_af406c9c_fd6a_11e8_acf8_9a0014a44500level0_row2\" class=\"row_heading level0 row2\" >Figueroa High School</th> \n",
       "        <td id=\"T_af406c9c_fd6a_11e8_acf8_9a0014a44500row2_col0\" class=\"data row2 col0\" >District</td> \n",
       "        <td id=\"T_af406c9c_fd6a_11e8_acf8_9a0014a44500row2_col1\" class=\"data row2 col1\" >2949</td> \n",
       "        <td id=\"T_af406c9c_fd6a_11e8_acf8_9a0014a44500row2_col2\" class=\"data row2 col2\" >$1,884,411.00</td> \n",
       "        <td id=\"T_af406c9c_fd6a_11e8_acf8_9a0014a44500row2_col3\" class=\"data row2 col3\" >$639.00</td> \n",
       "        <td id=\"T_af406c9c_fd6a_11e8_acf8_9a0014a44500row2_col4\" class=\"data row2 col4\" >76.7118</td> \n",
       "        <td id=\"T_af406c9c_fd6a_11e8_acf8_9a0014a44500row2_col5\" class=\"data row2 col5\" >81.158</td> \n",
       "        <td id=\"T_af406c9c_fd6a_11e8_acf8_9a0014a44500row2_col6\" class=\"data row2 col6\" >65.9885</td> \n",
       "        <td id=\"T_af406c9c_fd6a_11e8_acf8_9a0014a44500row2_col7\" class=\"data row2 col7\" >80.7392</td> \n",
       "        <td id=\"T_af406c9c_fd6a_11e8_acf8_9a0014a44500row2_col8\" class=\"data row2 col8\" >73.3639</td> \n",
       "    </tr>    <tr> \n",
       "        <th id=\"T_af406c9c_fd6a_11e8_acf8_9a0014a44500level0_row3\" class=\"row_heading level0 row3\" >Ford High School</th> \n",
       "        <td id=\"T_af406c9c_fd6a_11e8_acf8_9a0014a44500row3_col0\" class=\"data row3 col0\" >District</td> \n",
       "        <td id=\"T_af406c9c_fd6a_11e8_acf8_9a0014a44500row3_col1\" class=\"data row3 col1\" >2739</td> \n",
       "        <td id=\"T_af406c9c_fd6a_11e8_acf8_9a0014a44500row3_col2\" class=\"data row3 col2\" >$1,763,916.00</td> \n",
       "        <td id=\"T_af406c9c_fd6a_11e8_acf8_9a0014a44500row3_col3\" class=\"data row3 col3\" >$644.00</td> \n",
       "        <td id=\"T_af406c9c_fd6a_11e8_acf8_9a0014a44500row3_col4\" class=\"data row3 col4\" >77.1026</td> \n",
       "        <td id=\"T_af406c9c_fd6a_11e8_acf8_9a0014a44500row3_col5\" class=\"data row3 col5\" >80.7463</td> \n",
       "        <td id=\"T_af406c9c_fd6a_11e8_acf8_9a0014a44500row3_col6\" class=\"data row3 col6\" >68.3096</td> \n",
       "        <td id=\"T_af406c9c_fd6a_11e8_acf8_9a0014a44500row3_col7\" class=\"data row3 col7\" >79.299</td> \n",
       "        <td id=\"T_af406c9c_fd6a_11e8_acf8_9a0014a44500row3_col8\" class=\"data row3 col8\" >73.8043</td> \n",
       "    </tr>    <tr> \n",
       "        <th id=\"T_af406c9c_fd6a_11e8_acf8_9a0014a44500level0_row4\" class=\"row_heading level0 row4\" >Griffin High School</th> \n",
       "        <td id=\"T_af406c9c_fd6a_11e8_acf8_9a0014a44500row4_col0\" class=\"data row4 col0\" >Charter</td> \n",
       "        <td id=\"T_af406c9c_fd6a_11e8_acf8_9a0014a44500row4_col1\" class=\"data row4 col1\" >1468</td> \n",
       "        <td id=\"T_af406c9c_fd6a_11e8_acf8_9a0014a44500row4_col2\" class=\"data row4 col2\" >$917,500.00</td> \n",
       "        <td id=\"T_af406c9c_fd6a_11e8_acf8_9a0014a44500row4_col3\" class=\"data row4 col3\" >$625.00</td> \n",
       "        <td id=\"T_af406c9c_fd6a_11e8_acf8_9a0014a44500row4_col4\" class=\"data row4 col4\" >83.3515</td> \n",
       "        <td id=\"T_af406c9c_fd6a_11e8_acf8_9a0014a44500row4_col5\" class=\"data row4 col5\" >83.8168</td> \n",
       "        <td id=\"T_af406c9c_fd6a_11e8_acf8_9a0014a44500row4_col6\" class=\"data row4 col6\" >93.3924</td> \n",
       "        <td id=\"T_af406c9c_fd6a_11e8_acf8_9a0014a44500row4_col7\" class=\"data row4 col7\" >97.139</td> \n",
       "        <td id=\"T_af406c9c_fd6a_11e8_acf8_9a0014a44500row4_col8\" class=\"data row4 col8\" >95.2657</td> \n",
       "    </tr>    <tr> \n",
       "        <th id=\"T_af406c9c_fd6a_11e8_acf8_9a0014a44500level0_row5\" class=\"row_heading level0 row5\" >Hernandez High School</th> \n",
       "        <td id=\"T_af406c9c_fd6a_11e8_acf8_9a0014a44500row5_col0\" class=\"data row5 col0\" >District</td> \n",
       "        <td id=\"T_af406c9c_fd6a_11e8_acf8_9a0014a44500row5_col1\" class=\"data row5 col1\" >4635</td> \n",
       "        <td id=\"T_af406c9c_fd6a_11e8_acf8_9a0014a44500row5_col2\" class=\"data row5 col2\" >$3,022,020.00</td> \n",
       "        <td id=\"T_af406c9c_fd6a_11e8_acf8_9a0014a44500row5_col3\" class=\"data row5 col3\" >$652.00</td> \n",
       "        <td id=\"T_af406c9c_fd6a_11e8_acf8_9a0014a44500row5_col4\" class=\"data row5 col4\" >77.2898</td> \n",
       "        <td id=\"T_af406c9c_fd6a_11e8_acf8_9a0014a44500row5_col5\" class=\"data row5 col5\" >80.9344</td> \n",
       "        <td id=\"T_af406c9c_fd6a_11e8_acf8_9a0014a44500row5_col6\" class=\"data row5 col6\" >66.753</td> \n",
       "        <td id=\"T_af406c9c_fd6a_11e8_acf8_9a0014a44500row5_col7\" class=\"data row5 col7\" >80.863</td> \n",
       "        <td id=\"T_af406c9c_fd6a_11e8_acf8_9a0014a44500row5_col8\" class=\"data row5 col8\" >73.808</td> \n",
       "    </tr>    <tr> \n",
       "        <th id=\"T_af406c9c_fd6a_11e8_acf8_9a0014a44500level0_row6\" class=\"row_heading level0 row6\" >Holden High School</th> \n",
       "        <td id=\"T_af406c9c_fd6a_11e8_acf8_9a0014a44500row6_col0\" class=\"data row6 col0\" >Charter</td> \n",
       "        <td id=\"T_af406c9c_fd6a_11e8_acf8_9a0014a44500row6_col1\" class=\"data row6 col1\" >427</td> \n",
       "        <td id=\"T_af406c9c_fd6a_11e8_acf8_9a0014a44500row6_col2\" class=\"data row6 col2\" >$248,087.00</td> \n",
       "        <td id=\"T_af406c9c_fd6a_11e8_acf8_9a0014a44500row6_col3\" class=\"data row6 col3\" >$581.00</td> \n",
       "        <td id=\"T_af406c9c_fd6a_11e8_acf8_9a0014a44500row6_col4\" class=\"data row6 col4\" >83.8033</td> \n",
       "        <td id=\"T_af406c9c_fd6a_11e8_acf8_9a0014a44500row6_col5\" class=\"data row6 col5\" >83.815</td> \n",
       "        <td id=\"T_af406c9c_fd6a_11e8_acf8_9a0014a44500row6_col6\" class=\"data row6 col6\" >92.5059</td> \n",
       "        <td id=\"T_af406c9c_fd6a_11e8_acf8_9a0014a44500row6_col7\" class=\"data row6 col7\" >96.2529</td> \n",
       "        <td id=\"T_af406c9c_fd6a_11e8_acf8_9a0014a44500row6_col8\" class=\"data row6 col8\" >94.3794</td> \n",
       "    </tr>    <tr> \n",
       "        <th id=\"T_af406c9c_fd6a_11e8_acf8_9a0014a44500level0_row7\" class=\"row_heading level0 row7\" >Huang High School</th> \n",
       "        <td id=\"T_af406c9c_fd6a_11e8_acf8_9a0014a44500row7_col0\" class=\"data row7 col0\" >District</td> \n",
       "        <td id=\"T_af406c9c_fd6a_11e8_acf8_9a0014a44500row7_col1\" class=\"data row7 col1\" >2917</td> \n",
       "        <td id=\"T_af406c9c_fd6a_11e8_acf8_9a0014a44500row7_col2\" class=\"data row7 col2\" >$1,910,635.00</td> \n",
       "        <td id=\"T_af406c9c_fd6a_11e8_acf8_9a0014a44500row7_col3\" class=\"data row7 col3\" >$655.00</td> \n",
       "        <td id=\"T_af406c9c_fd6a_11e8_acf8_9a0014a44500row7_col4\" class=\"data row7 col4\" >76.6294</td> \n",
       "        <td id=\"T_af406c9c_fd6a_11e8_acf8_9a0014a44500row7_col5\" class=\"data row7 col5\" >81.1827</td> \n",
       "        <td id=\"T_af406c9c_fd6a_11e8_acf8_9a0014a44500row7_col6\" class=\"data row7 col6\" >65.6839</td> \n",
       "        <td id=\"T_af406c9c_fd6a_11e8_acf8_9a0014a44500row7_col7\" class=\"data row7 col7\" >81.3164</td> \n",
       "        <td id=\"T_af406c9c_fd6a_11e8_acf8_9a0014a44500row7_col8\" class=\"data row7 col8\" >73.5002</td> \n",
       "    </tr>    <tr> \n",
       "        <th id=\"T_af406c9c_fd6a_11e8_acf8_9a0014a44500level0_row8\" class=\"row_heading level0 row8\" >Johnson High School</th> \n",
       "        <td id=\"T_af406c9c_fd6a_11e8_acf8_9a0014a44500row8_col0\" class=\"data row8 col0\" >District</td> \n",
       "        <td id=\"T_af406c9c_fd6a_11e8_acf8_9a0014a44500row8_col1\" class=\"data row8 col1\" >4761</td> \n",
       "        <td id=\"T_af406c9c_fd6a_11e8_acf8_9a0014a44500row8_col2\" class=\"data row8 col2\" >$3,094,650.00</td> \n",
       "        <td id=\"T_af406c9c_fd6a_11e8_acf8_9a0014a44500row8_col3\" class=\"data row8 col3\" >$650.00</td> \n",
       "        <td id=\"T_af406c9c_fd6a_11e8_acf8_9a0014a44500row8_col4\" class=\"data row8 col4\" >77.0725</td> \n",
       "        <td id=\"T_af406c9c_fd6a_11e8_acf8_9a0014a44500row8_col5\" class=\"data row8 col5\" >80.9664</td> \n",
       "        <td id=\"T_af406c9c_fd6a_11e8_acf8_9a0014a44500row8_col6\" class=\"data row8 col6\" >66.0576</td> \n",
       "        <td id=\"T_af406c9c_fd6a_11e8_acf8_9a0014a44500row8_col7\" class=\"data row8 col7\" >81.2224</td> \n",
       "        <td id=\"T_af406c9c_fd6a_11e8_acf8_9a0014a44500row8_col8\" class=\"data row8 col8\" >73.64</td> \n",
       "    </tr>    <tr> \n",
       "        <th id=\"T_af406c9c_fd6a_11e8_acf8_9a0014a44500level0_row9\" class=\"row_heading level0 row9\" >Pena High School</th> \n",
       "        <td id=\"T_af406c9c_fd6a_11e8_acf8_9a0014a44500row9_col0\" class=\"data row9 col0\" >Charter</td> \n",
       "        <td id=\"T_af406c9c_fd6a_11e8_acf8_9a0014a44500row9_col1\" class=\"data row9 col1\" >962</td> \n",
       "        <td id=\"T_af406c9c_fd6a_11e8_acf8_9a0014a44500row9_col2\" class=\"data row9 col2\" >$585,858.00</td> \n",
       "        <td id=\"T_af406c9c_fd6a_11e8_acf8_9a0014a44500row9_col3\" class=\"data row9 col3\" >$609.00</td> \n",
       "        <td id=\"T_af406c9c_fd6a_11e8_acf8_9a0014a44500row9_col4\" class=\"data row9 col4\" >83.8399</td> \n",
       "        <td id=\"T_af406c9c_fd6a_11e8_acf8_9a0014a44500row9_col5\" class=\"data row9 col5\" >84.0447</td> \n",
       "        <td id=\"T_af406c9c_fd6a_11e8_acf8_9a0014a44500row9_col6\" class=\"data row9 col6\" >94.5946</td> \n",
       "        <td id=\"T_af406c9c_fd6a_11e8_acf8_9a0014a44500row9_col7\" class=\"data row9 col7\" >95.9459</td> \n",
       "        <td id=\"T_af406c9c_fd6a_11e8_acf8_9a0014a44500row9_col8\" class=\"data row9 col8\" >95.2703</td> \n",
       "    </tr>    <tr> \n",
       "        <th id=\"T_af406c9c_fd6a_11e8_acf8_9a0014a44500level0_row10\" class=\"row_heading level0 row10\" >Rodriguez High School</th> \n",
       "        <td id=\"T_af406c9c_fd6a_11e8_acf8_9a0014a44500row10_col0\" class=\"data row10 col0\" >District</td> \n",
       "        <td id=\"T_af406c9c_fd6a_11e8_acf8_9a0014a44500row10_col1\" class=\"data row10 col1\" >3999</td> \n",
       "        <td id=\"T_af406c9c_fd6a_11e8_acf8_9a0014a44500row10_col2\" class=\"data row10 col2\" >$2,547,363.00</td> \n",
       "        <td id=\"T_af406c9c_fd6a_11e8_acf8_9a0014a44500row10_col3\" class=\"data row10 col3\" >$637.00</td> \n",
       "        <td id=\"T_af406c9c_fd6a_11e8_acf8_9a0014a44500row10_col4\" class=\"data row10 col4\" >76.8427</td> \n",
       "        <td id=\"T_af406c9c_fd6a_11e8_acf8_9a0014a44500row10_col5\" class=\"data row10 col5\" >80.7447</td> \n",
       "        <td id=\"T_af406c9c_fd6a_11e8_acf8_9a0014a44500row10_col6\" class=\"data row10 col6\" >66.3666</td> \n",
       "        <td id=\"T_af406c9c_fd6a_11e8_acf8_9a0014a44500row10_col7\" class=\"data row10 col7\" >80.2201</td> \n",
       "        <td id=\"T_af406c9c_fd6a_11e8_acf8_9a0014a44500row10_col8\" class=\"data row10 col8\" >73.2933</td> \n",
       "    </tr>    <tr> \n",
       "        <th id=\"T_af406c9c_fd6a_11e8_acf8_9a0014a44500level0_row11\" class=\"row_heading level0 row11\" >Shelton High School</th> \n",
       "        <td id=\"T_af406c9c_fd6a_11e8_acf8_9a0014a44500row11_col0\" class=\"data row11 col0\" >Charter</td> \n",
       "        <td id=\"T_af406c9c_fd6a_11e8_acf8_9a0014a44500row11_col1\" class=\"data row11 col1\" >1761</td> \n",
       "        <td id=\"T_af406c9c_fd6a_11e8_acf8_9a0014a44500row11_col2\" class=\"data row11 col2\" >$1,056,600.00</td> \n",
       "        <td id=\"T_af406c9c_fd6a_11e8_acf8_9a0014a44500row11_col3\" class=\"data row11 col3\" >$600.00</td> \n",
       "        <td id=\"T_af406c9c_fd6a_11e8_acf8_9a0014a44500row11_col4\" class=\"data row11 col4\" >83.3595</td> \n",
       "        <td id=\"T_af406c9c_fd6a_11e8_acf8_9a0014a44500row11_col5\" class=\"data row11 col5\" >83.7257</td> \n",
       "        <td id=\"T_af406c9c_fd6a_11e8_acf8_9a0014a44500row11_col6\" class=\"data row11 col6\" >93.8671</td> \n",
       "        <td id=\"T_af406c9c_fd6a_11e8_acf8_9a0014a44500row11_col7\" class=\"data row11 col7\" >95.8546</td> \n",
       "        <td id=\"T_af406c9c_fd6a_11e8_acf8_9a0014a44500row11_col8\" class=\"data row11 col8\" >94.8609</td> \n",
       "    </tr>    <tr> \n",
       "        <th id=\"T_af406c9c_fd6a_11e8_acf8_9a0014a44500level0_row12\" class=\"row_heading level0 row12\" >Thomas High School</th> \n",
       "        <td id=\"T_af406c9c_fd6a_11e8_acf8_9a0014a44500row12_col0\" class=\"data row12 col0\" >Charter</td> \n",
       "        <td id=\"T_af406c9c_fd6a_11e8_acf8_9a0014a44500row12_col1\" class=\"data row12 col1\" >1635</td> \n",
       "        <td id=\"T_af406c9c_fd6a_11e8_acf8_9a0014a44500row12_col2\" class=\"data row12 col2\" >$1,043,130.00</td> \n",
       "        <td id=\"T_af406c9c_fd6a_11e8_acf8_9a0014a44500row12_col3\" class=\"data row12 col3\" >$638.00</td> \n",
       "        <td id=\"T_af406c9c_fd6a_11e8_acf8_9a0014a44500row12_col4\" class=\"data row12 col4\" >83.4183</td> \n",
       "        <td id=\"T_af406c9c_fd6a_11e8_acf8_9a0014a44500row12_col5\" class=\"data row12 col5\" >83.8489</td> \n",
       "        <td id=\"T_af406c9c_fd6a_11e8_acf8_9a0014a44500row12_col6\" class=\"data row12 col6\" >93.2722</td> \n",
       "        <td id=\"T_af406c9c_fd6a_11e8_acf8_9a0014a44500row12_col7\" class=\"data row12 col7\" >97.3089</td> \n",
       "        <td id=\"T_af406c9c_fd6a_11e8_acf8_9a0014a44500row12_col8\" class=\"data row12 col8\" >95.2905</td> \n",
       "    </tr>    <tr> \n",
       "        <th id=\"T_af406c9c_fd6a_11e8_acf8_9a0014a44500level0_row13\" class=\"row_heading level0 row13\" >Wilson High School</th> \n",
       "        <td id=\"T_af406c9c_fd6a_11e8_acf8_9a0014a44500row13_col0\" class=\"data row13 col0\" >Charter</td> \n",
       "        <td id=\"T_af406c9c_fd6a_11e8_acf8_9a0014a44500row13_col1\" class=\"data row13 col1\" >2283</td> \n",
       "        <td id=\"T_af406c9c_fd6a_11e8_acf8_9a0014a44500row13_col2\" class=\"data row13 col2\" >$1,319,574.00</td> \n",
       "        <td id=\"T_af406c9c_fd6a_11e8_acf8_9a0014a44500row13_col3\" class=\"data row13 col3\" >$578.00</td> \n",
       "        <td id=\"T_af406c9c_fd6a_11e8_acf8_9a0014a44500row13_col4\" class=\"data row13 col4\" >83.2742</td> \n",
       "        <td id=\"T_af406c9c_fd6a_11e8_acf8_9a0014a44500row13_col5\" class=\"data row13 col5\" >83.9895</td> \n",
       "        <td id=\"T_af406c9c_fd6a_11e8_acf8_9a0014a44500row13_col6\" class=\"data row13 col6\" >93.8677</td> \n",
       "        <td id=\"T_af406c9c_fd6a_11e8_acf8_9a0014a44500row13_col7\" class=\"data row13 col7\" >96.5396</td> \n",
       "        <td id=\"T_af406c9c_fd6a_11e8_acf8_9a0014a44500row13_col8\" class=\"data row13 col8\" >95.2037</td> \n",
       "    </tr>    <tr> \n",
       "        <th id=\"T_af406c9c_fd6a_11e8_acf8_9a0014a44500level0_row14\" class=\"row_heading level0 row14\" >Wright High School</th> \n",
       "        <td id=\"T_af406c9c_fd6a_11e8_acf8_9a0014a44500row14_col0\" class=\"data row14 col0\" >Charter</td> \n",
       "        <td id=\"T_af406c9c_fd6a_11e8_acf8_9a0014a44500row14_col1\" class=\"data row14 col1\" >1800</td> \n",
       "        <td id=\"T_af406c9c_fd6a_11e8_acf8_9a0014a44500row14_col2\" class=\"data row14 col2\" >$1,049,400.00</td> \n",
       "        <td id=\"T_af406c9c_fd6a_11e8_acf8_9a0014a44500row14_col3\" class=\"data row14 col3\" >$583.00</td> \n",
       "        <td id=\"T_af406c9c_fd6a_11e8_acf8_9a0014a44500row14_col4\" class=\"data row14 col4\" >83.6822</td> \n",
       "        <td id=\"T_af406c9c_fd6a_11e8_acf8_9a0014a44500row14_col5\" class=\"data row14 col5\" >83.955</td> \n",
       "        <td id=\"T_af406c9c_fd6a_11e8_acf8_9a0014a44500row14_col6\" class=\"data row14 col6\" >93.3333</td> \n",
       "        <td id=\"T_af406c9c_fd6a_11e8_acf8_9a0014a44500row14_col7\" class=\"data row14 col7\" >96.6111</td> \n",
       "        <td id=\"T_af406c9c_fd6a_11e8_acf8_9a0014a44500row14_col8\" class=\"data row14 col8\" >94.9722</td> \n",
       "    </tr></tbody> \n",
       "</table> "
      ],
      "text/plain": [
       "<pandas.io.formats.style.Styler at 0x11370fa90>"
      ]
     },
     "execution_count": 16,
     "metadata": {},
     "output_type": "execute_result"
    }
   ],
   "source": [
    "#Data Frame Output\n",
    "school_summary_df = pd.DataFrame(school_df)\n",
    "school_summary_df.style.format({\"Total School Budget\": \"${:,.2f}\", \"Per Student Budget\": \"${:,.2f}\"})"
   ]
  },
  {
   "cell_type": "raw",
   "metadata": {},
   "source": [
    "Top 5 Best Performing Schools(By Passing Rate)"
   ]
  },
  {
   "cell_type": "code",
   "execution_count": null,
   "metadata": {},
   "outputs": [],
   "source": [
    "top_5 = school_summary_df.sort_values(\"Overall Passing Rate\", ascending = False).iloc[0:5,]"
   ]
  },
  {
   "cell_type": "code",
   "execution_count": null,
   "metadata": {},
   "outputs": [],
   "source": [
    "top_5.style.format({'Total Students': '{:,}',\"Total School Budget\": \"${:,}\",\"Per Student Budget\": \"${:.2f}\"})\n",
    "top_5\n"
   ]
  },
  {
   "cell_type": "raw",
   "metadata": {},
   "source": [
    " Bottom Performing Schools (By Passing Rate)"
   ]
  },
  {
   "cell_type": "code",
   "execution_count": null,
   "metadata": {},
   "outputs": [],
   "source": [
    "bottom_5 = school_summary_df.sort_values(\"Overall Passing Rate\").iloc[0:5,]"
   ]
  },
  {
   "cell_type": "code",
   "execution_count": null,
   "metadata": {},
   "outputs": [],
   "source": [
    "bottom_5.style.format({'Total Students': '{:,}',\"Total School Budget\": \"${:,}\",\"Per Student Budget\": \"${:.2f}\"})\n",
    "bottom_5"
   ]
  },
  {
   "cell_type": "raw",
   "metadata": {},
   "source": [
    "Math Scores by Grade"
   ]
  },
  {
   "cell_type": "code",
   "execution_count": null,
   "metadata": {},
   "outputs": [],
   "source": [
    "#Location Grade average index\n",
    "grade_9_math = school_data_complete.loc[school_data_complete['grade'] == '9th'].groupby('school_name')[\"math_score\"].mean()\n",
    "grade_10_math = school_data_complete.loc[school_data_complete['grade'] == '10th'].groupby('school_name')[\"math_score\"].mean()\n",
    "grade_11_math = school_data_complete.loc[school_data_complete['grade'] == '11th'].groupby('school_name')[\"math_score\"].mean()\n",
    "grade_12_math = school_data_complete.loc[school_data_complete['grade'] == '12th'].groupby('school_name')[\"math_score\"].mean()\n",
    "\n"
   ]
  },
  {
   "cell_type": "code",
   "execution_count": null,
   "metadata": {},
   "outputs": [],
   "source": [
    "#Dataframe results\n",
    "math_scores = pd.DataFrame({\"9th\": grade_9_math, \"10th\": grade_10_math, \"11th\": grade_11_math,\"12th\": grade_12_math })\n",
    "math_scores = math_scores[['9th', '10th', '11th', '12th']]\n",
    "math_scores.index.name = \"School Name\"\n",
    "\n"
   ]
  },
  {
   "cell_type": "code",
   "execution_count": null,
   "metadata": {},
   "outputs": [],
   "source": [
    "#Data Frame formated output\n",
    "math_scores.style.format({'9th': '{:6f}','10th': '{:6f}','11th': '{:6f}','12th': '{:6f}'})"
   ]
  },
  {
   "cell_type": "markdown",
   "metadata": {},
   "source": [
    " Reading Score by Grade"
   ]
  },
  {
   "cell_type": "code",
   "execution_count": null,
   "metadata": {},
   "outputs": [],
   "source": [
    "#Location Grade average index\n",
    "grade_9_reading = school_data_complete.loc[school_data_complete['grade'] == '9th'].groupby('school_name')[\"reading_score\"].mean()\n",
    "grade_10_reading = school_data_complete.loc[school_data_complete['grade'] == '10th'].groupby('school_name')[\"reading_score\"].mean()\n",
    "grade_11_reading = school_data_complete.loc[school_data_complete['grade'] == '11th'].groupby('school_name')[\"reading_score\"].mean()\n",
    "grade_12_reading = school_data_complete.loc[school_data_complete['grade'] == '12th'].groupby('school_name')[\"reading_score\"].mean()\n"
   ]
  },
  {
   "cell_type": "code",
   "execution_count": null,
   "metadata": {},
   "outputs": [],
   "source": [
    "#Dataframe results\n",
    "reading_scores = pd.DataFrame({\"9th\": grade_9_reading, \"10th\": grade_10_reading, \"11th\": grade_11_reading,\"12th\": grade_12_reading})\n",
    "reading_scores = reading_scores[['9th', '10th', '11th', '12th']]\n",
    "reading_scores.index.name = \"School Name\"\n"
   ]
  },
  {
   "cell_type": "code",
   "execution_count": null,
   "metadata": {},
   "outputs": [],
   "source": [
    "#Data Frame formated output\n",
    "reading_scores.style.format({'9th': '{:6f}','10th': '{:6f}','11th': '{:6f}','12th': '{:6f}'})"
   ]
  },
  {
   "cell_type": "raw",
   "metadata": {},
   "source": [
    "Scores by School Spending"
   ]
  },
  {
   "cell_type": "code",
   "execution_count": null,
   "metadata": {},
   "outputs": [],
   "source": [
    "# Sample bins. Feel free to create your own bins.\n",
    "spending_bins = [0, 585, 615, 645, 675]\n",
    "group_names = [\"<$585\", \"$585-615\", \"$615-645\", \"$645-675\"]"
   ]
  },
  {
   "cell_type": "code",
   "execution_count": null,
   "metadata": {},
   "outputs": [],
   "source": [
    "school_summary_df[\"Per Student\"] = pd.cut(total_student_budget, spending_bins, labels = group_names)\n",
    "\n"
   ]
  },
  {
   "cell_type": "code",
   "execution_count": null,
   "metadata": {},
   "outputs": [],
   "source": [
    "#Calculation \n",
    "spending_math_range = school_summary_df.groupby([\"Per Student\"]).mean()['Average Math Score']\n",
    "spending_reading_range = school_summary_df.groupby([\"Per Student\"]).mean()['Average Reading Score']\n",
    "percent_passing_math = school_summary_df.groupby([\"Per Student\"]).mean()['Percentage Passing Math']\n",
    "percent_passing_reading = school_summary_df.groupby([\"Per Student\"]).mean()['Percentage Passing Reading']\n",
    "overall_passing_rate = (spending_math_range + spending_reading_range)/2\n"
   ]
  },
  {
   "cell_type": "code",
   "execution_count": null,
   "metadata": {},
   "outputs": [],
   "source": [
    "#Add columns to Data Frame\n",
    "spending_score_df = pd.DataFrame({\"Average Math Score\":spending_math_range, \"Average Reading Score\":spending_reading_range, \n",
    "                               \"Percentage Passing Math\":percent_passing_math, \n",
    "                               \"Percentage Passing Reading\":percent_passing_reading,\n",
    "                              \"Overall Passing Rate\":overall_passing_rate})\n",
    "                               \n",
    "                               \n",
    "                               "
   ]
  },
  {
   "cell_type": "code",
   "execution_count": null,
   "metadata": {},
   "outputs": [],
   "source": [
    "#Bin group\n",
    "spending_score_df = spending_score_df[[\"Average Math Score\", \"Average Reading Score\",\n",
    "                                 \"Percentage Passing Math\", \"Percentage Passing Reading\", \n",
    "                                 \"Overall Passing Rate\" ]]"
   ]
  },
  {
   "cell_type": "code",
   "execution_count": null,
   "metadata": {},
   "outputs": [],
   "source": [
    "#Output\n",
    "spending_score_df"
   ]
  },
  {
   "cell_type": "raw",
   "metadata": {},
   "source": [
    " Scores by School Size"
   ]
  },
  {
   "cell_type": "code",
   "execution_count": null,
   "metadata": {},
   "outputs": [],
   "source": [
    "# Sample bins. Feel free to create your own bins.\n",
    "size_bins = [0, 1000, 2000, 5000]\n",
    "group_names = [\"Small (<1000)\", \"Medium (1000-2000)\", \"Large (2000-5000)\"]"
   ]
  },
  {
   "cell_type": "code",
   "execution_count": null,
   "metadata": {},
   "outputs": [],
   "source": [
    "#school_summary_df[\"group_names(School Size)\"] = pd.cut(total_students, size_bins, labels = group_names)\n",
    "school_summary_df[\"School Size\"] = pd.cut(total_students, size_bins, labels = group_names)\n"
   ]
  },
  {
   "cell_type": "code",
   "execution_count": null,
   "metadata": {},
   "outputs": [],
   "source": [
    "#Calculation \n",
    "spending_math_range = school_summary_df.groupby([\"School Size\"]).mean()['Average Math Score']\n",
    "spending_reading_range = school_summary_df.groupby([\"School Size\"]).mean()['Average Reading Score']\n",
    "percent_passing_math = school_summary_df.groupby([\"School Size\"]).mean()['Percentage Passing Math']\n",
    "percent_passing_reading = school_summary_df.groupby([\"School Size\"]).mean()['Percentage Passing Reading']\n",
    "overall_passing_rate = (spending_math_range + spending_reading_range)/2\n"
   ]
  },
  {
   "cell_type": "code",
   "execution_count": null,
   "metadata": {},
   "outputs": [],
   "source": [
    "#Add columns to Data Frame\n",
    "size_score_df = pd.DataFrame({\"Average Math Score\":spending_math_range, \"Average Reading Score\":spending_reading_range, \n",
    "                               \"Percentage Passing Math\":percent_passing_math, \n",
    "                               \"Percentage Passing Reading\":percent_passing_reading,\n",
    "                              \"Overall Passing Rate\":overall_passing_rate})\n",
    "                               "
   ]
  },
  {
   "cell_type": "code",
   "execution_count": null,
   "metadata": {},
   "outputs": [],
   "source": [
    "#Bin group\n",
    "size_score_df = size_score_df[[\"Average Math Score\", \"Average Reading Score\",\n",
    "                                 \"Percentage Passing Math\", \"Percentage Passing Reading\", \n",
    "                                 \"Overall Passing Rate\" ]]\n",
    "#Output\n",
    "size_score_df"
   ]
  },
  {
   "cell_type": "raw",
   "metadata": {},
   "source": [
    "Scores by School Type"
   ]
  },
  {
   "cell_type": "code",
   "execution_count": null,
   "metadata": {},
   "outputs": [],
   "source": [
    "#Calculation \n",
    "spending_math_range = school_summary_df.groupby([\"School Type\"]).mean()['Average Math Score']\n",
    "spending_reading_range = school_summary_df.groupby([\"School Type\"]).mean()['Average Reading Score']\n",
    "percent_passing_math = school_summary_df.groupby([\"School Type\"]).mean()['Percentage Passing Math']\n",
    "percent_passing_reading = school_summary_df.groupby([\"School Type\"]).mean()['Percentage Passing Reading']\n",
    "overall_passing_rate = (spending_math_range + spending_reading_range)/2"
   ]
  },
  {
   "cell_type": "code",
   "execution_count": null,
   "metadata": {},
   "outputs": [],
   "source": [
    "#Add columns to Data Frame\n",
    "school_type_df = pd.DataFrame({\"Average Math Score\":spending_math_range, \"Average Reading Score\":spending_reading_range, \n",
    "                               \"Percentage Passing Math\":percent_passing_math, \n",
    "                               \"Percentage Passing Reading\":percent_passing_reading,\n",
    "                              \"Overall Passing Rate\":overall_passing_rate})"
   ]
  },
  {
   "cell_type": "code",
   "execution_count": null,
   "metadata": {},
   "outputs": [],
   "source": [
    "#Data Munging\n",
    "school_type_df = school_type_df[[\"Average Math Score\", \"Average Reading Score\",\n",
    "                                 \"Percentage Passing Math\", \"Percentage Passing Reading\", \n",
    "                                 \"Overall Passing Rate\" ]]\n",
    "#Output\n",
    "school_type_df\n"
   ]
  }
 ],
 "metadata": {
  "kernelspec": {
   "display_name": "Python 3",
   "language": "python",
   "name": "python3"
  },
  "language_info": {
   "codemirror_mode": {
    "name": "ipython",
    "version": 3
   },
   "file_extension": ".py",
   "mimetype": "text/x-python",
   "name": "python",
   "nbconvert_exporter": "python",
   "pygments_lexer": "ipython3",
   "version": "3.6.7"
  }
 },
 "nbformat": 4,
 "nbformat_minor": 2
}
